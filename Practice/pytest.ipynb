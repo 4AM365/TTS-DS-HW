{
 "cells": [
  {
   "cell_type": "code",
   "execution_count": 7,
   "id": "b77dffc0",
   "metadata": {},
   "outputs": [
    {
     "name": "stdout",
     "output_type": "stream",
     "text": [
      "1 2 3 4\n",
      "-6618759228356973157\n"
     ]
    }
   ],
   "source": [
    "# Exercise 2\n",
    "\n",
    "# Get a space-separated list of integers from the user, create a tuple of those integers. Then compute and print the result of hash(tuple).\n",
    "\n",
    "list = input()\n",
    "tu = tuple(list)\n",
    "tuh = hash(tu)\n",
    "print(tuh)"
   ]
  },
  {
   "cell_type": "code",
   "execution_count": null,
   "id": "7adfdd3f",
   "metadata": {},
   "outputs": [],
   "source": []
  }
 ],
 "metadata": {
  "kernelspec": {
   "display_name": "Python 3.9.12 ('base')",
   "language": "python",
   "name": "python3"
  },
  "language_info": {
   "codemirror_mode": {
    "name": "ipython",
    "version": 3
   },
   "file_extension": ".py",
   "mimetype": "text/x-python",
   "name": "python",
   "nbconvert_exporter": "python",
   "pygments_lexer": "ipython3",
   "version": "3.9.12"
  },
  "vscode": {
   "interpreter": {
    "hash": "504af9dbaeab241701b42e0a4a2f2792546a36888d7345416987d6285d9bc5c8"
   }
  }
 },
 "nbformat": 4,
 "nbformat_minor": 5
}
