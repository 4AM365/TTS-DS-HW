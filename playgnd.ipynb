import math
print("enter a")
a = input()
print("enter b")
b = input()
print("input c")
c = input()
 
def solve_quadratic(a, b, c):
    d = (b*b) - (4*a*c)
    sol1 = (-b-math.sqrt(d))/(2*a) 
    sol2 = (-b+math.sqrt(d))/(2*a)
    out = sol1, sol2
    type(out)
    print(out)
    return out